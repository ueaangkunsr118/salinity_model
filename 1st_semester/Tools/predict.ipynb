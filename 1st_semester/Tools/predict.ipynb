{
 "cells": [
  {
   "cell_type": "code",
   "execution_count": 4,
   "metadata": {},
   "outputs": [
    {
     "name": "stdout",
     "output_type": "stream",
     "text": [
      "Missing values before prediction: 117643\n"
     ]
    }
   ],
   "source": [
    "from tensorflow.keras.models import load_model\n",
    "import pandas as pd\n",
    "import numpy as np\n",
    "\n",
    "# Load the trained LSTM model\n",
    "# model = load_model('lstm_model.h5')\n",
    "\n",
    "# Load the data\n",
    "df = pd.read_csv('/Users/ratchanonkhongsawi/Desktop/CMKL/SELF-Learn/RND1/Data/unclean_csv/ladpo.csv', parse_dates=['date_time'], index_col='date_time')\n",
    "\n",
    "# Check missing values\n",
    "print(\"Missing values before prediction:\", df['Salinity(g/L)'].isnull().sum())"
   ]
  }
 ],
 "metadata": {
  "kernelspec": {
   "display_name": "watergate",
   "language": "python",
   "name": "python3"
  },
  "language_info": {
   "codemirror_mode": {
    "name": "ipython",
    "version": 3
   },
   "file_extension": ".py",
   "mimetype": "text/x-python",
   "name": "python",
   "nbconvert_exporter": "python",
   "pygments_lexer": "ipython3",
   "version": "3.12.7"
  }
 },
 "nbformat": 4,
 "nbformat_minor": 2
}
